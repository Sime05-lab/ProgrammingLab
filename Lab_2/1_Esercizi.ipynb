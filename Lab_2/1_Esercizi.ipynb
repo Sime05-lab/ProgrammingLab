{
 "cells": [
  {
   "cell_type": "markdown",
   "metadata": {},
   "source": [
    "### **1. Trasformare cicli in list comprehension**\n",
    "\n",
    "Fai tre esempi di cicli producono una lista e poi riscrivi lo stesso codice usando la list comprehension"
   ]
  },
  {
   "cell_type": "code",
   "execution_count": null,
   "metadata": {},
   "outputs": [],
   "source": [
    "#1\n",
    "lista = []\n",
    "for i in range(10):\n",
    "    lista.append(i)\n",
    "\n",
    "lista = []\n",
    "lista = [i for i in range(10)]\n",
    "\n",
    "#2\n",
    "lista = []\n",
    "for i in \"ciao\":\n",
    "    lista.append(i)\n",
    "\n",
    "lista = []\n",
    "lista = [i for i in \"ciao\"]\n",
    "\n",
    "#3\n",
    "lista = []\n",
    "for i in range(10):\n",
    "    if i % 2 == 1:\n",
    "        lista.append(i)\n",
    "\n",
    "lista = []\n",
    "lista = [i for i in range(10) if i % 2 == 1]\n"
   ]
  },
  {
   "cell_type": "markdown",
   "metadata": {},
   "source": [
    "### **2. Vettore di Numeri Primi**\n",
    "\n",
    "1. **Crea un vettore** contenente tutti i numeri primi compresi tra **0 e 10**  \n",
    "   _(Puoi scriverli direttamente nell'array)._\n",
    "\n",
    "2. **Conta quanti numeri ci sono nel vettore** utilizzando la funzione `len()`.  **Ottieni lo stesso numero** accedendo all'attributo `.size` del vettore.\n",
    "\n",
    "3. Quale pensi sia il tipo di dato (`dtype`) del vettore?  Prova a rispondere senza eseguire il codice e Verifica la tua risposta accedendo all'attributo `.dtype` del vettore\n",
    "\n",
    "4. Scrivi l'array usando una list comprehension che controlla che i numeri siano primi. "
   ]
  },
  {
   "cell_type": "code",
   "execution_count": 7,
   "metadata": {},
   "outputs": [
    {
     "name": "stdout",
     "output_type": "stream",
     "text": [
      "11\n",
      "11\n",
      "int64\n",
      "[2, 3, 5, 7]\n"
     ]
    }
   ],
   "source": [
    "import numpy as np\n",
    "array = np.arange(11)\n",
    "length_1 = len(array)\n",
    "length_2 = array.size\n",
    "print(length_1)\n",
    "print(length_2)\n",
    "#Mi aspetto che il tipo di dato sia intero poichè tutti i numeri sono interi\n",
    "print(array.dtype)\n",
    "a = [i for i in range(11) if ((i==2 or (i % 2 != 0 and all(i % x != 0 for x in range (2,i)))) and i != 1)]\n",
    "print(a)"
   ]
  },
  {
   "cell_type": "markdown",
   "metadata": {},
   "source": [
    "### **3.  Operazioni su array**\n",
    "Crea un array **a**, 1D (senza digitarlo esplicitamente), e genera due nuovi array **b**, contenente una sottostringa a piacere e **c** che è il reverse dell'array **a** (esempio [1,2,3] diventa [3,2,1]) .  Dividi l'array **a** per l'array **c**. Fai la stessa cosa per una lista."
   ]
  },
  {
   "cell_type": "code",
   "execution_count": 16,
   "metadata": {},
   "outputs": [
    {
     "name": "stdout",
     "output_type": "stream",
     "text": [
      "[6 7 8]\n",
      "[10  9  8  7  6  5  4  3  2  1]\n",
      "[ 0.1         0.22222222  0.375       0.57142857  0.83333333  1.2\n",
      "  1.75        2.66666667  4.5        10.        ]\n",
      "[6, 7, 8]\n",
      "[10, 9, 8, 7, 6, 5, 4, 3, 2, 1]\n",
      "[0.1, 0.2222222222222222, 0.375, 0.5714285714285714, 0.8333333333333334, 1.2, 1.75, 2.6666666666666665, 4.5, 10.0]\n"
     ]
    }
   ],
   "source": [
    "lista = [i for i in range(1,11)]\n",
    "a = np.array(lista)\n",
    "b = a[5:8]\n",
    "print(b)\n",
    "c = np.flip(a)\n",
    "print(c)\n",
    "print(a/c)\n",
    "\n",
    "a1 = [i for i in range(1,11)]\n",
    "b1 = a1[5:8]\n",
    "print(b1)\n",
    "c1 = a1.copy()\n",
    "c1.reverse()\n",
    "print(c1)\n",
    "rapporto = [a1[i]/c1[i] for i in range(len(a1))]\n",
    "print(rapporto)"
   ]
  }
 ],
 "metadata": {
  "kernelspec": {
   "display_name": "ProgrammingLab2",
   "language": "python",
   "name": "python3"
  },
  "language_info": {
   "codemirror_mode": {
    "name": "ipython",
    "version": 3
   },
   "file_extension": ".py",
   "mimetype": "text/x-python",
   "name": "python",
   "nbconvert_exporter": "python",
   "pygments_lexer": "ipython3",
   "version": "3.13.2"
  }
 },
 "nbformat": 4,
 "nbformat_minor": 2
}
